{
 "cells": [
  {
   "cell_type": "code",
   "execution_count": 2,
   "metadata": {},
   "outputs": [],
   "source": [
    "import cv2\n",
    "import os\n",
    "import imutils"
   ]
  },
  {
   "cell_type": "code",
   "execution_count": 8,
   "metadata": {},
   "outputs": [],
   "source": [
    "person_name = 'Mario'\n",
    "data_path = 'C:/Users/usuario/Documents/GitHub/Desafio_Tripulaciones/Reconocimiento_Facial'\n",
    "person_path = data_path +'/'+ person_name\n",
    "\n",
    "if not os.path.exists(person_path):\n",
    "    print('Carpeta creada: ', person_path)\n",
    "    os.makedirs(person_path)\n",
    "\n",
    "cap = cv2.VideoCapture(0)\n",
    "face_classif = cv2.CascadeClassifier('frontalface_default.xml')  #cv2.data.haarcascades\n",
    "\n",
    "count = 0\n",
    "\n",
    "while True:\n",
    "    ret, im = cap.read()\n",
    "    if ret == False:\n",
    "        break\n",
    "    im = imutils.resize(im, width=640)\n",
    "    gray = cv2.cvtColor(im, cv2.COLOR_BGR2GRAY)\n",
    "    aux_frame = im.copy()\n",
    "\n",
    "    faces = face_classif.detectMultiScale(gray, 1.3,5)\n",
    "\n",
    "    for (x,y,w,h) in faces:\n",
    "        cv2.rectangle(im, (x,y),(x+w,y+h),(0,255,0),2)\n",
    "        rostro = aux_frame[y:y+h,x:x+w]\n",
    "        rostro = cv2.resize(rostro,(150,150), interpolation=cv2.INTER_CUBIC)\n",
    "        cv2.imwrite(person_path + '/rostr_{}.jpg'.format(count),rostro)\n",
    "        count = count + 1\n",
    "    cv2.imshow('Imagen', im)\n",
    "\n",
    "    k= cv2.waitKey(1)\n",
    "    if k == 27 or count >= 300:\n",
    "        break\n",
    "\n",
    "cap.release()\n",
    "cv2.destroyAllWindows()"
   ]
  }
 ],
 "metadata": {
  "kernelspec": {
   "display_name": "Python 3.7.4 ('env_desafio': venv)",
   "language": "python",
   "name": "python3"
  },
  "language_info": {
   "codemirror_mode": {
    "name": "ipython",
    "version": 3
   },
   "file_extension": ".py",
   "mimetype": "text/x-python",
   "name": "python",
   "nbconvert_exporter": "python",
   "pygments_lexer": "ipython3",
   "version": "3.7.4"
  },
  "orig_nbformat": 4,
  "vscode": {
   "interpreter": {
    "hash": "4b03bd1065cf1237d5da24bb42816bc470ea33b976bb3481f8b1c1dcd71dc69e"
   }
  }
 },
 "nbformat": 4,
 "nbformat_minor": 2
}
