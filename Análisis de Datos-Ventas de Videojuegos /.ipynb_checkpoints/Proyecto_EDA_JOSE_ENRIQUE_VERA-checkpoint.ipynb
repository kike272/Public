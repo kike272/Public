{
 "cells": [
  {
   "cell_type": "code",
   "execution_count": 1,
   "metadata": {},
   "outputs": [
    {
     "name": "stdout",
     "output_type": "stream",
     "text": [
      "Requirement already satisfied: requests in /Library/Frameworks/Python.framework/Versions/3.7/lib/python3.7/site-packages (2.27.1)\n",
      "Requirement already satisfied: certifi>=2017.4.17 in /Library/Frameworks/Python.framework/Versions/3.7/lib/python3.7/site-packages (from requests) (2021.10.8)\n",
      "Requirement already satisfied: charset-normalizer~=2.0.0 in /Library/Frameworks/Python.framework/Versions/3.7/lib/python3.7/site-packages (from requests) (2.0.12)\n",
      "Requirement already satisfied: urllib3<1.27,>=1.21.1 in /Library/Frameworks/Python.framework/Versions/3.7/lib/python3.7/site-packages (from requests) (1.26.9)\n",
      "Requirement already satisfied: idna<4,>=2.5 in /Library/Frameworks/Python.framework/Versions/3.7/lib/python3.7/site-packages (from requests) (3.3)\n"
     ]
    }
   ],
   "source": [
    "!pip install requests "
   ]
  },
  {
   "cell_type": "markdown",
   "metadata": {},
   "source": []
  },
  {
   "cell_type": "code",
   "execution_count": 2,
   "metadata": {},
   "outputs": [
    {
     "name": "stdout",
     "output_type": "stream",
     "text": [
      "/Library/Frameworks/Python.framework/Versions/3.7/lib/python3.7/site-packages/certifi/cacert.pem\n",
      "Checking connection to Github...\n",
      "Connection to Github OK.\n"
     ]
    }
   ],
   "source": [
    "import numpy as np \n",
    "import pandas as pd \n",
    "\n",
    "import certifi\n",
    "\n",
    "print(certifi.where())\n",
    "\n",
    "SSL_CERT_FILE = '/Library/Frameworks/Python.framework/Versions/3.7/lib/python3.7/site-packages/certifi/cacert.pem'\n",
    "\n",
    "import certifi\n",
    "import requests\n",
    "\n",
    "try:\n",
    "    print('Checking connection to Github...')\n",
    "    test = requests.get('https://api.github.com')\n",
    "    print('Connection to Github OK.')\n",
    "except requests.exceptions.SSLError as err:\n",
    "    print('SSL Error. Adding custom certs to Certifi store...')\n",
    "    cafile = certifi.where()\n",
    "    with open('certicate.pem', 'rb') as infile:\n",
    "        customca = infile.read()\n",
    "    with open(cafile, 'ab') as outfile:\n",
    "        outfile.write(customca)\n",
    "    print('That might have worked.')"
   ]
  },
  {
   "cell_type": "code",
   "execution_count": 21,
   "metadata": {},
   "outputs": [
    {
     "name": "stdout",
     "output_type": "stream",
     "text": [
      "Rank              0\n",
      "Name              0\n",
      "Platform          0\n",
      "Year            271\n",
      "Genre             0\n",
      "Publisher        58\n",
      "NA_Sales          0\n",
      "EU_Sales          0\n",
      "JP_Sales          0\n",
      "Other_Sales       0\n",
      "Global_Sales      0\n",
      "dtype: int64 (16598, 11)\n"
     ]
    }
   ],
   "source": [
    "import numpy as np \n",
    "import pandas as pd \n",
    "import matplotlib.pyplot as plt\n",
    "import seaborn as sns\n",
    "\n",
    "videojuegos= pd.read_csv('vgsales.csv') \n",
    "print(videojuegos.isnull().sum(), videojuegos.shape)\n",
    "videojuegos = videojuegos.dropna()\n"
   ]
  },
  {
   "cell_type": "markdown",
   "metadata": {
    "slideshow": {
     "slide_type": "slide"
    }
   },
   "source": [
    "# Análisis Exploratorio de Datos en relación a las ventas de videojuegos desde 1980 hasta 2020."
   ]
  },
  {
   "cell_type": "markdown",
   "metadata": {
    "slideshow": {
     "slide_type": "slide"
    }
   },
   "source": [
    "## Juegos ordenados en base a sus ventas globales. "
   ]
  },
  {
   "cell_type": "markdown",
   "metadata": {},
   "source": [
    "Como podemos ver en la tabla, los videojuegos más vendidos históricamente son los videojuegos que pertenecen a Nintendo. "
   ]
  },
  {
   "cell_type": "code",
   "execution_count": 20,
   "metadata": {},
   "outputs": [
    {
     "data": {
      "text/html": [
       "<div>\n",
       "<style scoped>\n",
       "    .dataframe tbody tr th:only-of-type {\n",
       "        vertical-align: middle;\n",
       "    }\n",
       "\n",
       "    .dataframe tbody tr th {\n",
       "        vertical-align: top;\n",
       "    }\n",
       "\n",
       "    .dataframe thead th {\n",
       "        text-align: right;\n",
       "    }\n",
       "</style>\n",
       "<table border=\"1\" class=\"dataframe\">\n",
       "  <thead>\n",
       "    <tr style=\"text-align: right;\">\n",
       "      <th></th>\n",
       "      <th>Year</th>\n",
       "      <th>Rank</th>\n",
       "      <th>Name</th>\n",
       "      <th>Platform</th>\n",
       "      <th>Genre</th>\n",
       "      <th>Publisher</th>\n",
       "      <th>NA_Sales</th>\n",
       "      <th>EU_Sales</th>\n",
       "      <th>JP_Sales</th>\n",
       "      <th>Other_Sales</th>\n",
       "      <th>Global_Sales</th>\n",
       "    </tr>\n",
       "  </thead>\n",
       "  <tbody>\n",
       "    <tr>\n",
       "      <th>0</th>\n",
       "      <td>2006.0</td>\n",
       "      <td>1</td>\n",
       "      <td>Wii Sports</td>\n",
       "      <td>Wii</td>\n",
       "      <td>Sports</td>\n",
       "      <td>Nintendo</td>\n",
       "      <td>41.49</td>\n",
       "      <td>29.02</td>\n",
       "      <td>3.77</td>\n",
       "      <td>8.46</td>\n",
       "      <td>82.74</td>\n",
       "    </tr>\n",
       "    <tr>\n",
       "      <th>1</th>\n",
       "      <td>1985.0</td>\n",
       "      <td>2</td>\n",
       "      <td>Super Mario Bros.</td>\n",
       "      <td>NES</td>\n",
       "      <td>Platform</td>\n",
       "      <td>Nintendo</td>\n",
       "      <td>29.08</td>\n",
       "      <td>3.58</td>\n",
       "      <td>6.81</td>\n",
       "      <td>0.77</td>\n",
       "      <td>40.24</td>\n",
       "    </tr>\n",
       "    <tr>\n",
       "      <th>2</th>\n",
       "      <td>2008.0</td>\n",
       "      <td>3</td>\n",
       "      <td>Mario Kart Wii</td>\n",
       "      <td>Wii</td>\n",
       "      <td>Racing</td>\n",
       "      <td>Nintendo</td>\n",
       "      <td>15.85</td>\n",
       "      <td>12.88</td>\n",
       "      <td>3.79</td>\n",
       "      <td>3.31</td>\n",
       "      <td>35.82</td>\n",
       "    </tr>\n",
       "    <tr>\n",
       "      <th>3</th>\n",
       "      <td>2009.0</td>\n",
       "      <td>4</td>\n",
       "      <td>Wii Sports Resort</td>\n",
       "      <td>Wii</td>\n",
       "      <td>Sports</td>\n",
       "      <td>Nintendo</td>\n",
       "      <td>15.75</td>\n",
       "      <td>11.01</td>\n",
       "      <td>3.28</td>\n",
       "      <td>2.96</td>\n",
       "      <td>33.00</td>\n",
       "    </tr>\n",
       "    <tr>\n",
       "      <th>4</th>\n",
       "      <td>1996.0</td>\n",
       "      <td>5</td>\n",
       "      <td>Pokemon Red/Pokemon Blue</td>\n",
       "      <td>GB</td>\n",
       "      <td>Role-Playing</td>\n",
       "      <td>Nintendo</td>\n",
       "      <td>11.27</td>\n",
       "      <td>8.89</td>\n",
       "      <td>10.22</td>\n",
       "      <td>1.00</td>\n",
       "      <td>31.37</td>\n",
       "    </tr>\n",
       "    <tr>\n",
       "      <th>...</th>\n",
       "      <td>...</td>\n",
       "      <td>...</td>\n",
       "      <td>...</td>\n",
       "      <td>...</td>\n",
       "      <td>...</td>\n",
       "      <td>...</td>\n",
       "      <td>...</td>\n",
       "      <td>...</td>\n",
       "      <td>...</td>\n",
       "      <td>...</td>\n",
       "      <td>...</td>\n",
       "    </tr>\n",
       "    <tr>\n",
       "      <th>15984</th>\n",
       "      <td>2006.0</td>\n",
       "      <td>15987</td>\n",
       "      <td>Chameleon: To Dye For!</td>\n",
       "      <td>DS</td>\n",
       "      <td>Puzzle</td>\n",
       "      <td>505 Games</td>\n",
       "      <td>0.01</td>\n",
       "      <td>0.00</td>\n",
       "      <td>0.00</td>\n",
       "      <td>0.00</td>\n",
       "      <td>0.01</td>\n",
       "    </tr>\n",
       "    <tr>\n",
       "      <th>15983</th>\n",
       "      <td>2007.0</td>\n",
       "      <td>15986</td>\n",
       "      <td>Dragon Zakura DS</td>\n",
       "      <td>DS</td>\n",
       "      <td>Misc</td>\n",
       "      <td>Electronic Arts</td>\n",
       "      <td>0.00</td>\n",
       "      <td>0.00</td>\n",
       "      <td>0.01</td>\n",
       "      <td>0.00</td>\n",
       "      <td>0.01</td>\n",
       "    </tr>\n",
       "    <tr>\n",
       "      <th>15982</th>\n",
       "      <td>2016.0</td>\n",
       "      <td>15985</td>\n",
       "      <td>Super Battle For Money Sentouchuu: Kyuukyoku n...</td>\n",
       "      <td>3DS</td>\n",
       "      <td>Action</td>\n",
       "      <td>Namco Bandai Games</td>\n",
       "      <td>0.00</td>\n",
       "      <td>0.00</td>\n",
       "      <td>0.01</td>\n",
       "      <td>0.00</td>\n",
       "      <td>0.01</td>\n",
       "    </tr>\n",
       "    <tr>\n",
       "      <th>15981</th>\n",
       "      <td>2016.0</td>\n",
       "      <td>15984</td>\n",
       "      <td>Coven and Labyrinth of Refrain</td>\n",
       "      <td>PSV</td>\n",
       "      <td>Action</td>\n",
       "      <td>Nippon Ichi Software</td>\n",
       "      <td>0.00</td>\n",
       "      <td>0.00</td>\n",
       "      <td>0.01</td>\n",
       "      <td>0.00</td>\n",
       "      <td>0.01</td>\n",
       "    </tr>\n",
       "    <tr>\n",
       "      <th>15980</th>\n",
       "      <td>2008.0</td>\n",
       "      <td>15983</td>\n",
       "      <td>Turok</td>\n",
       "      <td>PC</td>\n",
       "      <td>Action</td>\n",
       "      <td>Touchstone</td>\n",
       "      <td>0.00</td>\n",
       "      <td>0.01</td>\n",
       "      <td>0.00</td>\n",
       "      <td>0.00</td>\n",
       "      <td>0.01</td>\n",
       "    </tr>\n",
       "  </tbody>\n",
       "</table>\n",
       "<p>16291 rows × 11 columns</p>\n",
       "</div>"
      ],
      "text/plain": [
       "         Year   Rank                                               Name  \\\n",
       "0      2006.0      1                                         Wii Sports   \n",
       "1      1985.0      2                                  Super Mario Bros.   \n",
       "2      2008.0      3                                     Mario Kart Wii   \n",
       "3      2009.0      4                                  Wii Sports Resort   \n",
       "4      1996.0      5                           Pokemon Red/Pokemon Blue   \n",
       "...       ...    ...                                                ...   \n",
       "15984  2006.0  15987                             Chameleon: To Dye For!   \n",
       "15983  2007.0  15986                                   Dragon Zakura DS   \n",
       "15982  2016.0  15985  Super Battle For Money Sentouchuu: Kyuukyoku n...   \n",
       "15981  2016.0  15984                     Coven and Labyrinth of Refrain   \n",
       "15980  2008.0  15983                                              Turok   \n",
       "\n",
       "      Platform         Genre             Publisher  NA_Sales  EU_Sales  \\\n",
       "0          Wii        Sports              Nintendo     41.49     29.02   \n",
       "1          NES      Platform              Nintendo     29.08      3.58   \n",
       "2          Wii        Racing              Nintendo     15.85     12.88   \n",
       "3          Wii        Sports              Nintendo     15.75     11.01   \n",
       "4           GB  Role-Playing              Nintendo     11.27      8.89   \n",
       "...        ...           ...                   ...       ...       ...   \n",
       "15984       DS        Puzzle             505 Games      0.01      0.00   \n",
       "15983       DS          Misc       Electronic Arts      0.00      0.00   \n",
       "15982      3DS        Action    Namco Bandai Games      0.00      0.00   \n",
       "15981      PSV        Action  Nippon Ichi Software      0.00      0.00   \n",
       "15980       PC        Action            Touchstone      0.00      0.01   \n",
       "\n",
       "       JP_Sales  Other_Sales  Global_Sales  \n",
       "0          3.77         8.46         82.74  \n",
       "1          6.81         0.77         40.24  \n",
       "2          3.79         3.31         35.82  \n",
       "3          3.28         2.96         33.00  \n",
       "4         10.22         1.00         31.37  \n",
       "...         ...          ...           ...  \n",
       "15984      0.00         0.00          0.01  \n",
       "15983      0.01         0.00          0.01  \n",
       "15982      0.01         0.00          0.01  \n",
       "15981      0.01         0.00          0.01  \n",
       "15980      0.00         0.00          0.01  \n",
       "\n",
       "[16291 rows x 11 columns]"
      ]
     },
     "execution_count": 20,
     "metadata": {},
     "output_type": "execute_result"
    }
   ],
   "source": [
    "videojuegos_51 = videojuegos.sort_values(by=['Global_Sales','Rank'], ascending=False)\n",
    "videojuegos_51"
   ]
  },
  {
   "cell_type": "markdown",
   "metadata": {
    "slideshow": {
     "slide_type": "slide"
    }
   },
   "source": [
    "Sin embargo, si hacemos esta misma tabla, pero ordenada por años en lugar de por ventas, vemos que los primeros años en la industria de los videojuegos no fueron para nada rentables economicamente hablando. Y los últimos años tampoco es que sean excesivamente bollantes para la gran mayoría de titulos que salen al mercado."
   ]
  },
  {
   "cell_type": "code",
   "execution_count": 5,
   "metadata": {},
   "outputs": [
    {
     "data": {
      "text/html": [
       "<div>\n",
       "<style scoped>\n",
       "    .dataframe tbody tr th:only-of-type {\n",
       "        vertical-align: middle;\n",
       "    }\n",
       "\n",
       "    .dataframe tbody tr th {\n",
       "        vertical-align: top;\n",
       "    }\n",
       "\n",
       "    .dataframe thead th {\n",
       "        text-align: right;\n",
       "    }\n",
       "</style>\n",
       "<table border=\"1\" class=\"dataframe\">\n",
       "  <thead>\n",
       "    <tr style=\"text-align: right;\">\n",
       "      <th></th>\n",
       "      <th>Year</th>\n",
       "      <th>Rank</th>\n",
       "      <th>Name</th>\n",
       "      <th>Platform</th>\n",
       "      <th>Genre</th>\n",
       "      <th>Publisher</th>\n",
       "      <th>NA_Sales</th>\n",
       "      <th>EU_Sales</th>\n",
       "      <th>JP_Sales</th>\n",
       "      <th>Other_Sales</th>\n",
       "      <th>Global_Sales</th>\n",
       "    </tr>\n",
       "  </thead>\n",
       "  <tbody>\n",
       "    <tr>\n",
       "      <th>258</th>\n",
       "      <td>1980.0</td>\n",
       "      <td>259</td>\n",
       "      <td>Asteroids</td>\n",
       "      <td>2600</td>\n",
       "      <td>Shooter</td>\n",
       "      <td>Atari</td>\n",
       "      <td>4.00</td>\n",
       "      <td>0.26</td>\n",
       "      <td>0.0</td>\n",
       "      <td>0.05</td>\n",
       "      <td>4.31</td>\n",
       "    </tr>\n",
       "    <tr>\n",
       "      <th>6317</th>\n",
       "      <td>1980.0</td>\n",
       "      <td>6319</td>\n",
       "      <td>Bridge</td>\n",
       "      <td>2600</td>\n",
       "      <td>Misc</td>\n",
       "      <td>Activision</td>\n",
       "      <td>0.25</td>\n",
       "      <td>0.02</td>\n",
       "      <td>0.0</td>\n",
       "      <td>0.00</td>\n",
       "      <td>0.27</td>\n",
       "    </tr>\n",
       "    <tr>\n",
       "      <th>1969</th>\n",
       "      <td>1980.0</td>\n",
       "      <td>1971</td>\n",
       "      <td>Defender</td>\n",
       "      <td>2600</td>\n",
       "      <td>Misc</td>\n",
       "      <td>Atari</td>\n",
       "      <td>0.99</td>\n",
       "      <td>0.05</td>\n",
       "      <td>0.0</td>\n",
       "      <td>0.01</td>\n",
       "      <td>1.05</td>\n",
       "    </tr>\n",
       "    <tr>\n",
       "      <th>5366</th>\n",
       "      <td>1980.0</td>\n",
       "      <td>5368</td>\n",
       "      <td>Freeway</td>\n",
       "      <td>2600</td>\n",
       "      <td>Action</td>\n",
       "      <td>Activision</td>\n",
       "      <td>0.32</td>\n",
       "      <td>0.02</td>\n",
       "      <td>0.0</td>\n",
       "      <td>0.00</td>\n",
       "      <td>0.34</td>\n",
       "    </tr>\n",
       "    <tr>\n",
       "      <th>1766</th>\n",
       "      <td>1980.0</td>\n",
       "      <td>1768</td>\n",
       "      <td>Kaboom!</td>\n",
       "      <td>2600</td>\n",
       "      <td>Misc</td>\n",
       "      <td>Activision</td>\n",
       "      <td>1.07</td>\n",
       "      <td>0.07</td>\n",
       "      <td>0.0</td>\n",
       "      <td>0.01</td>\n",
       "      <td>1.15</td>\n",
       "    </tr>\n",
       "  </tbody>\n",
       "</table>\n",
       "</div>"
      ],
      "text/plain": [
       "        Year  Rank       Name Platform    Genre   Publisher  NA_Sales  \\\n",
       "258   1980.0   259  Asteroids     2600  Shooter       Atari      4.00   \n",
       "6317  1980.0  6319     Bridge     2600     Misc  Activision      0.25   \n",
       "1969  1980.0  1971   Defender     2600     Misc       Atari      0.99   \n",
       "5366  1980.0  5368    Freeway     2600   Action  Activision      0.32   \n",
       "1766  1980.0  1768    Kaboom!     2600     Misc  Activision      1.07   \n",
       "\n",
       "      EU_Sales  JP_Sales  Other_Sales  Global_Sales  \n",
       "258       0.26       0.0         0.05          4.31  \n",
       "6317      0.02       0.0         0.00          0.27  \n",
       "1969      0.05       0.0         0.01          1.05  \n",
       "5366      0.02       0.0         0.00          0.34  \n",
       "1766      0.07       0.0         0.01          1.15  "
      ]
     },
     "metadata": {},
     "output_type": "display_data"
    },
    {
     "data": {
      "text/html": [
       "<div>\n",
       "<style scoped>\n",
       "    .dataframe tbody tr th:only-of-type {\n",
       "        vertical-align: middle;\n",
       "    }\n",
       "\n",
       "    .dataframe tbody tr th {\n",
       "        vertical-align: top;\n",
       "    }\n",
       "\n",
       "    .dataframe thead th {\n",
       "        text-align: right;\n",
       "    }\n",
       "</style>\n",
       "<table border=\"1\" class=\"dataframe\">\n",
       "  <thead>\n",
       "    <tr style=\"text-align: right;\">\n",
       "      <th></th>\n",
       "      <th>Year</th>\n",
       "      <th>Rank</th>\n",
       "      <th>Name</th>\n",
       "      <th>Platform</th>\n",
       "      <th>Genre</th>\n",
       "      <th>Publisher</th>\n",
       "      <th>NA_Sales</th>\n",
       "      <th>EU_Sales</th>\n",
       "      <th>JP_Sales</th>\n",
       "      <th>Other_Sales</th>\n",
       "      <th>Global_Sales</th>\n",
       "    </tr>\n",
       "  </thead>\n",
       "  <tbody>\n",
       "    <tr>\n",
       "      <th>5288</th>\n",
       "      <td>2016.0</td>\n",
       "      <td>5290</td>\n",
       "      <td>Star Fox: Zero</td>\n",
       "      <td>WiiU</td>\n",
       "      <td>Shooter</td>\n",
       "      <td>Nintendo</td>\n",
       "      <td>0.16</td>\n",
       "      <td>0.1</td>\n",
       "      <td>0.07</td>\n",
       "      <td>0.03</td>\n",
       "      <td>0.35</td>\n",
       "    </tr>\n",
       "    <tr>\n",
       "      <th>14390</th>\n",
       "      <td>2017.0</td>\n",
       "      <td>14393</td>\n",
       "      <td>Phantasy Star Online 2 Episode 4: Deluxe Package</td>\n",
       "      <td>PS4</td>\n",
       "      <td>Role-Playing</td>\n",
       "      <td>Sega</td>\n",
       "      <td>0.00</td>\n",
       "      <td>0.0</td>\n",
       "      <td>0.03</td>\n",
       "      <td>0.00</td>\n",
       "      <td>0.03</td>\n",
       "    </tr>\n",
       "    <tr>\n",
       "      <th>16438</th>\n",
       "      <td>2017.0</td>\n",
       "      <td>16441</td>\n",
       "      <td>Brothers Conflict: Precious Baby</td>\n",
       "      <td>PSV</td>\n",
       "      <td>Action</td>\n",
       "      <td>Idea Factory</td>\n",
       "      <td>0.00</td>\n",
       "      <td>0.0</td>\n",
       "      <td>0.01</td>\n",
       "      <td>0.00</td>\n",
       "      <td>0.01</td>\n",
       "    </tr>\n",
       "    <tr>\n",
       "      <th>16241</th>\n",
       "      <td>2017.0</td>\n",
       "      <td>16244</td>\n",
       "      <td>Phantasy Star Online 2 Episode 4: Deluxe Package</td>\n",
       "      <td>PSV</td>\n",
       "      <td>Role-Playing</td>\n",
       "      <td>Sega</td>\n",
       "      <td>0.00</td>\n",
       "      <td>0.0</td>\n",
       "      <td>0.01</td>\n",
       "      <td>0.00</td>\n",
       "      <td>0.01</td>\n",
       "    </tr>\n",
       "    <tr>\n",
       "      <th>5957</th>\n",
       "      <td>2020.0</td>\n",
       "      <td>5959</td>\n",
       "      <td>Imagine: Makeup Artist</td>\n",
       "      <td>DS</td>\n",
       "      <td>Simulation</td>\n",
       "      <td>Ubisoft</td>\n",
       "      <td>0.27</td>\n",
       "      <td>0.0</td>\n",
       "      <td>0.00</td>\n",
       "      <td>0.02</td>\n",
       "      <td>0.29</td>\n",
       "    </tr>\n",
       "  </tbody>\n",
       "</table>\n",
       "</div>"
      ],
      "text/plain": [
       "         Year   Rank                                              Name  \\\n",
       "5288   2016.0   5290                                    Star Fox: Zero   \n",
       "14390  2017.0  14393  Phantasy Star Online 2 Episode 4: Deluxe Package   \n",
       "16438  2017.0  16441                  Brothers Conflict: Precious Baby   \n",
       "16241  2017.0  16244  Phantasy Star Online 2 Episode 4: Deluxe Package   \n",
       "5957   2020.0   5959                            Imagine: Makeup Artist   \n",
       "\n",
       "      Platform         Genre     Publisher  NA_Sales  EU_Sales  JP_Sales  \\\n",
       "5288      WiiU       Shooter      Nintendo      0.16       0.1      0.07   \n",
       "14390      PS4  Role-Playing          Sega      0.00       0.0      0.03   \n",
       "16438      PSV        Action  Idea Factory      0.00       0.0      0.01   \n",
       "16241      PSV  Role-Playing          Sega      0.00       0.0      0.01   \n",
       "5957        DS    Simulation       Ubisoft      0.27       0.0      0.00   \n",
       "\n",
       "       Other_Sales  Global_Sales  \n",
       "5288          0.03          0.35  \n",
       "14390         0.00          0.03  \n",
       "16438         0.00          0.01  \n",
       "16241         0.00          0.01  \n",
       "5957          0.02          0.29  "
      ]
     },
     "metadata": {},
     "output_type": "display_data"
    }
   ],
   "source": [
    "videojuegos = videojuegos.sort_values(by='Year', ascending=True)\n",
    "videojuegos= videojuegos[['Year', 'Rank', 'Name', 'Platform','Genre','Publisher','NA_Sales','EU_Sales','JP_Sales','Other_Sales','Global_Sales']]\n",
    "display(videojuegos.head())\n",
    "display(videojuegos.tail())"
   ]
  },
  {
   "cell_type": "markdown",
   "metadata": {
    "slideshow": {
     "slide_type": "slide"
    }
   },
   "source": [
    "## Correlación entre variables "
   ]
  },
  {
   "cell_type": "markdown",
   "metadata": {},
   "source": [
    "Como paso previo a la visualización de los distintos datos que nos proporcionará este estudio, lo primero será echar una primer vistazo a la correlación existente entre las diferentes variables que conforman nuestra base de datos."
   ]
  },
  {
   "cell_type": "code",
   "execution_count": 22,
   "metadata": {},
   "outputs": [
    {
     "data": {
      "image/png": "[encoded data removed]",
      "text/plain": [
       "<Figure size 720x360 with 2 Axes>"
      ]
     },
     "metadata": {
      "needs_background": "light"
     },
     "output_type": "display_data"
    }
   ],
   "source": [
    "correlacion= videojuegos.corr()\n",
    "\n",
    "fig, ax = plt.subplots(figsize=(10,5))\n",
    "\n",
    "sns.heatmap(correlacion,annot=True, cmap= 'Reds')\n",
    "plt.show()\n"
   ]
  },
  {
   "cell_type": "markdown",
   "metadata": {
    "slideshow": {
     "slide_type": "slide"
    }
   },
   "source": [
    "Como se puede observar, existe una gran correlación entre las ventas de las diferentes zonas geográficas y las ventas globales, dando lugar a que si se produce un aumento de una unida monetaria en cualquiera de estas variables, se producirá también un aumento en la otra variable. \n",
    "\n",
    "Por ejemplo, si se produce un incremento de un dolar en las ventas en Europa, se producirá un aumento de las ventas globales."
   ]
  },
  {
   "cell_type": "markdown",
   "metadata": {},
   "source": [
    "Ahora, vamos a estudiar la evolución de las ventas globales a lo largo de los años."
   ]
  },
  {
   "cell_type": "markdown",
   "metadata": {
    "slideshow": {
     "slide_type": "slide"
    }
   },
   "source": [
    "## Suma de todas las ventas de videojuegos por año"
   ]
  },
  {
   "cell_type": "code",
   "execution_count": 10,
   "metadata": {},
   "outputs": [
    {
     "data": {
      "image/png": "[encoded data removed]",
      "text/plain": [
       "<Figure size 936x504 with 1 Axes>"
      ]
     },
     "metadata": {
      "needs_background": "light"
     },
     "output_type": "display_data"
    }
   ],
   "source": [
    "year= list(videojuegos.Year.unique())\n",
    "global_sales=[]\n",
    "\n",
    "for i in year:\n",
    "    val=videojuegos[videojuegos.Year == i]\n",
    "    x= val.Global_Sales.sum()\n",
    "    global_sales.append(x)\n",
    "\n",
    "d1 = pd.DataFrame({'Year':year, 'Global_Sales':global_sales})\n",
    "\n",
    "fig,ax= plt.subplots(figsize=(13,7))\n",
    "ax.plot(d1['Year'], d1['Global_Sales'], color='purple')\n",
    "ax.set_xlabel('Año')\n",
    "ax.set_ylabel('Ventas Globales(millones de dolares)')\n",
    "ax.set_title('Ventas Globales totales por año')\n",
    "plt.show()\n"
   ]
  },
  {
   "cell_type": "markdown",
   "metadata": {
    "slideshow": {
     "slide_type": "slide"
    }
   },
   "source": [
    "Como podemos ver en la gráfica, hay un aumento paulatino y estable de las ventas de videojuegos hasta el año 1995. A partir de este año las ventas de videojuegos empiezan a ascender bruscamente, alcanzando su pico entre el año 2005 y 2010. Esto coincide con el auge de Playstation 2, Xbox y Nintendo DS, consolas míticas que hicieron mucho por la insdustria. Durante estos años también lanzan al mercado las nuevas consolas de Sony y Microsoft lo que hace que la industria de los videojuegos este en alza unos años más. Sin embargo, a partir de 2010 podemos observar una caida en picado debido posiblemente a la crisis económica y la aparición de forma cada vez más común de videojuegos \"Free to play\" como es el caso de League Of Leguends o Fortnite. "
   ]
  },
  {
   "cell_type": "code",
   "execution_count": 50,
   "metadata": {},
   "outputs": [
    {
     "name": "stderr",
     "output_type": "stream",
     "text": [
      "/Library/Frameworks/Python.framework/Versions/3.7/lib/python3.7/site-packages/seaborn/_decorators.py:43: FutureWarning: Pass the following variable as a keyword arg: x. From version 0.12, the only valid positional argument will be `data`, and passing other arguments without an explicit keyword will result in an error or misinterpretation.\n",
      "  FutureWarning\n"
     ]
    },
    {
     "data": {
      "image/png": "[encoded data removed]",
      "text/plain": [
       "<Figure size 1440x360 with 1 Axes>"
      ]
     },
     "metadata": {
      "needs_background": "light"
     },
     "output_type": "display_data"
    }
   ],
   "source": [
    "plt.figure(figsize=(20,5))\n",
    "sns.boxplot(videojuegos[\"Year\"], color=\"red\");"
   ]
  },
  {
   "cell_type": "markdown",
   "metadata": {},
   "source": [
    "En este otro gráfico se puede apreciar aún con más detalle como el grueso de las ventas se concentran sobre todo entre el año 2002-2003 hasta el año 2010, en el que empiezan a decaer de manera paulatina. Alcanza su cúspide en el año entre el año 2007 y 2008"
   ]
  },
  {
   "cell_type": "markdown",
   "metadata": {
    "slideshow": {
     "slide_type": "slide"
    }
   },
   "source": [
    "También es importante tener en cuenta la cantidad de videojuegos lanzados al mercado cada año."
   ]
  },
  {
   "cell_type": "code",
   "execution_count": 55,
   "metadata": {},
   "outputs": [
    {
     "name": "stderr",
     "output_type": "stream",
     "text": [
      "/Library/Frameworks/Python.framework/Versions/3.7/lib/python3.7/site-packages/seaborn/distributions.py:2619: FutureWarning: `distplot` is a deprecated function and will be removed in a future version. Please adapt your code to use either `displot` (a figure-level function with similar flexibility) or `histplot` (an axes-level function for histograms).\n",
      "  warnings.warn(msg, FutureWarning)\n",
      "/Library/Frameworks/Python.framework/Versions/3.7/lib/python3.7/site-packages/seaborn/distributions.py:2103: FutureWarning: The `axis` variable is no longer used and will be removed. Instead, assign variables directly to `x` or `y`.\n",
      "  warnings.warn(msg, FutureWarning)\n"
     ]
    },
    {
     "data": {
      "image/png": "[encoded data removed]",
      "text/plain": [
       "<Figure size 720x360 with 1 Axes>"
      ]
     },
     "metadata": {
      "needs_background": "light"
     },
     "output_type": "display_data"
    }
   ],
   "source": [
    "plt.figure(figsize=(10,5))\n",
    "sns.distplot(videojuegos[\"Year\"],\n",
    "            rug=True);"
   ]
  },
  {
   "cell_type": "markdown",
   "metadata": {},
   "source": [
    "Como podemos ver en este gráfico, la cantidad de videojuegos lanzados entre el año 2000 y el año 2010 es mayor a la del resto de años juntos. \n",
    "\n",
    "Esto se debe principalmente a dos cosas: \n",
    "1. El auge de la industria durante esta época.\n",
    "2. La tradición que surge durante estos años de adaptar cualquier obra cinematográfica a la industria de los videojuegos. \n",
    "\n",
    "Esta última tendencia irá desapareciendo a partir del año 2008, probablemente debido a la crisis económica y a la aparición de juegos \"Free to play\" como hemos dicho anteriormente. "
   ]
  },
  {
   "cell_type": "markdown",
   "metadata": {
    "slideshow": {
     "slide_type": "slide"
    }
   },
   "source": [
    "## Ventas según las diferentes zonas geográficas "
   ]
  },
  {
   "cell_type": "markdown",
   "metadata": {
    "slideshow": {
     "slide_type": "slide"
    }
   },
   "source": [
    "Continuando con nuestra indagación, vamos a ver cómo se han desarrollado las ventas de las diferentes zonas geográficas. Este conjuto de datos recoge 4 tipos ventas, las ventas de Norte América, las de Europa, las de Japón y las del resto de países."
   ]
  },
  {
   "cell_type": "code",
   "execution_count": null,
   "metadata": {},
   "outputs": [
    {
     "data": {
      "image/png": "[encoded data removed]",
      "text/plain": [
       "<Figure size 1008x648 with 4 Axes>"
      ]
     },
     "metadata": {
      "needs_background": "light"
     },
     "output_type": "display_data"
    }
   ],
   "source": [
    "year_per_sales=list(videojuegos.Year.unique())\n",
    "na_sales=[]\n",
    "eu_sales=[]\n",
    "jp_sales=[]\n",
    "other_sales=[]\n",
    "\n",
    "\n",
    "\n",
    "for i in year_per_sales:\n",
    "    val=videojuegos[videojuegos.Year==i]\n",
    "    na_sales.append(val.NA_Sales.sum())\n",
    "    eu_sales.append(val.EU_Sales.sum())\n",
    "    jp_sales.append(val.JP_Sales.sum())\n",
    "    other_sales.append(val.Other_Sales.sum())\n",
    "\n",
    "d2= pd.DataFrame({'Year': year_per_sales, 'NA_Sales': na_sales, 'EU_Sales': eu_sales, 'JP_Sales': jp_sales, 'Other_Sales': other_sales})\n",
    "    \n",
    "fig, ax = plt.subplots(2,2,figsize=(14,9))\n",
    "ax[0,0].plot(d2['Year'], d2['NA_Sales'], color='blue')\n",
    "ax[0,1].plot(d2['Year'], d2['EU_Sales'], color='red')\n",
    "ax[1,0].plot(d2['Year'], d2['JP_Sales'], color='green')\n",
    "ax[1,1].plot(d2['Year'], d2['Other_Sales'], color='yellow')\n",
    "\n",
    "ax[0,0].set_xlabel('Año')\n",
    "ax[0,1].set_xlabel('Año')\n",
    "ax[1,0].set_xlabel('Año')\n",
    "ax[1,1].set_xlabel('Año')\n",
    "\n",
    "ax[0,0].set_ylabel('Ventas NA')\n",
    "ax[0,1].set_ylabel('Ventas EU')\n",
    "ax[1,0].set_ylabel('Ventas JP')\n",
    "ax[1,1].set_ylabel('Ventas Other')\n",
    "\n",
    "\n",
    "plt.show()"
   ]
  },
  {
   "cell_type": "markdown",
   "metadata": {},
   "source": [
    "Como se puede apreciar en las diferentes gráficas, la mayoría de las ventas se registran en la zona de Norte América, seguido de Europa, el resto de países del mundo y Japón, siendo el 2006 el año donde se registran las mayores niveles de ventas. A partir de ese año, las ventas empiezan a disminuir, siendo la zona de Norte América la mayor afectada entre el 2012-2013, donde se puede ver una caída aproximada de 200 millones de dólares."
   ]
  },
  {
   "cell_type": "markdown",
   "metadata": {
    "slideshow": {
     "slide_type": "slide"
    }
   },
   "source": [
    "# Ventas de Videojuegos en base a los géneros de los mismos"
   ]
  },
  {
   "cell_type": "markdown",
   "metadata": {},
   "source": [
    "Otro dato que nos puede resultar de gran ayuda es visualizar que género de videojuego se vende más o menos dependiendo de la consola donde se lanza al mercado. "
   ]
  },
  {
   "cell_type": "markdown",
   "metadata": {
    "slideshow": {
     "slide_type": "slide"
    }
   },
   "source": [
    "## Ventas por Géneros de Videojuegos en XBOX 360"
   ]
  },
  {
   "cell_type": "code",
   "execution_count": null,
   "metadata": {},
   "outputs": [
    {
     "data": {
      "text/html": [
       "<div>\n",
       "<style scoped>\n",
       "    .dataframe tbody tr th:only-of-type {\n",
       "        vertical-align: middle;\n",
       "    }\n",
       "\n",
       "    .dataframe tbody tr th {\n",
       "        vertical-align: top;\n",
       "    }\n",
       "\n",
       "    .dataframe thead th {\n",
       "        text-align: right;\n",
       "    }\n",
       "</style>\n",
       "<table border=\"1\" class=\"dataframe\">\n",
       "  <thead>\n",
       "    <tr style=\"text-align: right;\">\n",
       "      <th></th>\n",
       "      <th>Year</th>\n",
       "      <th>Rank</th>\n",
       "      <th>Name</th>\n",
       "      <th>Platform</th>\n",
       "      <th>Genre</th>\n",
       "      <th>Publisher</th>\n",
       "      <th>NA_Sales</th>\n",
       "      <th>EU_Sales</th>\n",
       "      <th>JP_Sales</th>\n",
       "      <th>Other_Sales</th>\n",
       "      <th>Global_Sales</th>\n",
       "    </tr>\n",
       "  </thead>\n",
       "  <tbody>\n",
       "    <tr>\n",
       "      <th>2659</th>\n",
       "      <td>2005.0</td>\n",
       "      <td>2661</td>\n",
       "      <td>Perfect Dark Zero</td>\n",
       "      <td>X360</td>\n",
       "      <td>Shooter</td>\n",
       "      <td>Microsoft Game Studios</td>\n",
       "      <td>0.66</td>\n",
       "      <td>0.02</td>\n",
       "      <td>0.03</td>\n",
       "      <td>0.06</td>\n",
       "      <td>0.77</td>\n",
       "    </tr>\n",
       "    <tr>\n",
       "      <th>5776</th>\n",
       "      <td>2005.0</td>\n",
       "      <td>5778</td>\n",
       "      <td>Tiger Woods PGA Tour 06</td>\n",
       "      <td>X360</td>\n",
       "      <td>Sports</td>\n",
       "      <td>Electronic Arts</td>\n",
       "      <td>0.28</td>\n",
       "      <td>0.00</td>\n",
       "      <td>0.00</td>\n",
       "      <td>0.02</td>\n",
       "      <td>0.31</td>\n",
       "    </tr>\n",
       "    <tr>\n",
       "      <th>841</th>\n",
       "      <td>2005.0</td>\n",
       "      <td>843</td>\n",
       "      <td>Call of Duty 2</td>\n",
       "      <td>X360</td>\n",
       "      <td>Shooter</td>\n",
       "      <td>Activision</td>\n",
       "      <td>1.81</td>\n",
       "      <td>0.05</td>\n",
       "      <td>0.01</td>\n",
       "      <td>0.15</td>\n",
       "      <td>2.02</td>\n",
       "    </tr>\n",
       "    <tr>\n",
       "      <th>1530</th>\n",
       "      <td>2005.0</td>\n",
       "      <td>1532</td>\n",
       "      <td>Need for Speed: Most Wanted</td>\n",
       "      <td>X360</td>\n",
       "      <td>Racing</td>\n",
       "      <td>Electronic Arts</td>\n",
       "      <td>1.00</td>\n",
       "      <td>0.17</td>\n",
       "      <td>0.02</td>\n",
       "      <td>0.10</td>\n",
       "      <td>1.29</td>\n",
       "    </tr>\n",
       "    <tr>\n",
       "      <th>7590</th>\n",
       "      <td>2005.0</td>\n",
       "      <td>7592</td>\n",
       "      <td>Ridge Racer 6</td>\n",
       "      <td>X360</td>\n",
       "      <td>Racing</td>\n",
       "      <td>Namco Bandai Games</td>\n",
       "      <td>0.10</td>\n",
       "      <td>0.02</td>\n",
       "      <td>0.07</td>\n",
       "      <td>0.01</td>\n",
       "      <td>0.20</td>\n",
       "    </tr>\n",
       "  </tbody>\n",
       "</table>\n",
       "</div>"
      ],
      "text/plain": [
       "        Year  Rank                         Name Platform    Genre  \\\n",
       "2659  2005.0  2661            Perfect Dark Zero     X360  Shooter   \n",
       "5776  2005.0  5778      Tiger Woods PGA Tour 06     X360   Sports   \n",
       "841   2005.0   843               Call of Duty 2     X360  Shooter   \n",
       "1530  2005.0  1532  Need for Speed: Most Wanted     X360   Racing   \n",
       "7590  2005.0  7592                Ridge Racer 6     X360   Racing   \n",
       "\n",
       "                   Publisher  NA_Sales  EU_Sales  JP_Sales  Other_Sales  \\\n",
       "2659  Microsoft Game Studios      0.66      0.02      0.03         0.06   \n",
       "5776         Electronic Arts      0.28      0.00      0.00         0.02   \n",
       "841               Activision      1.81      0.05      0.01         0.15   \n",
       "1530         Electronic Arts      1.00      0.17      0.02         0.10   \n",
       "7590      Namco Bandai Games      0.10      0.02      0.07         0.01   \n",
       "\n",
       "      Global_Sales  \n",
       "2659          0.77  \n",
       "5776          0.31  \n",
       "841           2.02  \n",
       "1530          1.29  \n",
       "7590          0.20  "
      ]
     },
     "metadata": {},
     "output_type": "display_data"
    },
    {
     "name": "stdout",
     "output_type": "stream",
     "text": [
      "(1234, 11)\n"
     ]
    },
    {
     "data": {
      "image/png": "[encoded data removed]",
      "text/plain": [
       "<Figure size 936x504 with 1 Axes>"
      ]
     },
     "metadata": {
      "needs_background": "light"
     },
     "output_type": "display_data"
    }
   ],
   "source": [
    "xbox_360 = videojuegos[(videojuegos.Platform == 'X360')]\n",
    "xbox_360.Genre.unique()\n",
    "display(xbox_360.head())\n",
    "print(xbox_360.shape)\n",
    "\n",
    "plt.figure(figsize=(13,7))\n",
    "sns.countplot(x='Genre', data=xbox_360)\n",
    "plt.xlabel('Género')\n",
    "plt.ylabel('Cantidad')\n",
    "plt.title('Géneros XBOX 360')\n",
    "plt.show()"
   ]
  },
  {
   "cell_type": "markdown",
   "metadata": {
    "slideshow": {
     "slide_type": "slide"
    }
   },
   "source": [
    "Como podemos observar el rey indiscutible de las ventas en XBOX360 es el género de acción, seguido por los videojuegos de deportes y éste último seguido muy de cerca por los shooters. "
   ]
  },
  {
   "cell_type": "code",
   "execution_count": 24,
   "metadata": {},
   "outputs": [
    {
     "data": {
      "text/html": [
       "<div>\n",
       "<style scoped>\n",
       "    .dataframe tbody tr th:only-of-type {\n",
       "        vertical-align: middle;\n",
       "    }\n",
       "\n",
       "    .dataframe tbody tr th {\n",
       "        vertical-align: top;\n",
       "    }\n",
       "\n",
       "    .dataframe thead th {\n",
       "        text-align: right;\n",
       "    }\n",
       "</style>\n",
       "<table border=\"1\" class=\"dataframe\">\n",
       "  <thead>\n",
       "    <tr style=\"text-align: right;\">\n",
       "      <th></th>\n",
       "      <th>Rank</th>\n",
       "      <th>Name</th>\n",
       "      <th>Platform</th>\n",
       "      <th>Year</th>\n",
       "      <th>Genre</th>\n",
       "      <th>Publisher</th>\n",
       "      <th>NA_Sales</th>\n",
       "      <th>EU_Sales</th>\n",
       "      <th>JP_Sales</th>\n",
       "      <th>Other_Sales</th>\n",
       "      <th>Global_Sales</th>\n",
       "    </tr>\n",
       "  </thead>\n",
       "  <tbody>\n",
       "    <tr>\n",
       "      <th>16</th>\n",
       "      <td>17</td>\n",
       "      <td>Grand Theft Auto V</td>\n",
       "      <td>PS3</td>\n",
       "      <td>2013.0</td>\n",
       "      <td>Action</td>\n",
       "      <td>Take-Two Interactive</td>\n",
       "      <td>7.01</td>\n",
       "      <td>9.27</td>\n",
       "      <td>0.97</td>\n",
       "      <td>4.14</td>\n",
       "      <td>21.40</td>\n",
       "    </tr>\n",
       "    <tr>\n",
       "      <th>34</th>\n",
       "      <td>35</td>\n",
       "      <td>Call of Duty: Black Ops II</td>\n",
       "      <td>PS3</td>\n",
       "      <td>2012.0</td>\n",
       "      <td>Shooter</td>\n",
       "      <td>Activision</td>\n",
       "      <td>4.99</td>\n",
       "      <td>5.88</td>\n",
       "      <td>0.65</td>\n",
       "      <td>2.52</td>\n",
       "      <td>14.03</td>\n",
       "    </tr>\n",
       "    <tr>\n",
       "      <th>37</th>\n",
       "      <td>38</td>\n",
       "      <td>Call of Duty: Modern Warfare 3</td>\n",
       "      <td>PS3</td>\n",
       "      <td>2011.0</td>\n",
       "      <td>Shooter</td>\n",
       "      <td>Activision</td>\n",
       "      <td>5.54</td>\n",
       "      <td>5.82</td>\n",
       "      <td>0.49</td>\n",
       "      <td>1.62</td>\n",
       "      <td>13.46</td>\n",
       "    </tr>\n",
       "    <tr>\n",
       "      <th>40</th>\n",
       "      <td>41</td>\n",
       "      <td>Call of Duty: Black Ops</td>\n",
       "      <td>PS3</td>\n",
       "      <td>2010.0</td>\n",
       "      <td>Shooter</td>\n",
       "      <td>Activision</td>\n",
       "      <td>5.98</td>\n",
       "      <td>4.44</td>\n",
       "      <td>0.48</td>\n",
       "      <td>1.83</td>\n",
       "      <td>12.73</td>\n",
       "    </tr>\n",
       "    <tr>\n",
       "      <th>54</th>\n",
       "      <td>55</td>\n",
       "      <td>Gran Turismo 5</td>\n",
       "      <td>PS3</td>\n",
       "      <td>2010.0</td>\n",
       "      <td>Racing</td>\n",
       "      <td>Sony Computer Entertainment</td>\n",
       "      <td>2.96</td>\n",
       "      <td>4.88</td>\n",
       "      <td>0.81</td>\n",
       "      <td>2.12</td>\n",
       "      <td>10.77</td>\n",
       "    </tr>\n",
       "  </tbody>\n",
       "</table>\n",
       "</div>"
      ],
      "text/plain": [
       "    Rank                            Name Platform    Year    Genre  \\\n",
       "16    17              Grand Theft Auto V      PS3  2013.0   Action   \n",
       "34    35      Call of Duty: Black Ops II      PS3  2012.0  Shooter   \n",
       "37    38  Call of Duty: Modern Warfare 3      PS3  2011.0  Shooter   \n",
       "40    41         Call of Duty: Black Ops      PS3  2010.0  Shooter   \n",
       "54    55                  Gran Turismo 5      PS3  2010.0   Racing   \n",
       "\n",
       "                      Publisher  NA_Sales  EU_Sales  JP_Sales  Other_Sales  \\\n",
       "16         Take-Two Interactive      7.01      9.27      0.97         4.14   \n",
       "34                   Activision      4.99      5.88      0.65         2.52   \n",
       "37                   Activision      5.54      5.82      0.49         1.62   \n",
       "40                   Activision      5.98      4.44      0.48         1.83   \n",
       "54  Sony Computer Entertainment      2.96      4.88      0.81         2.12   \n",
       "\n",
       "    Global_Sales  \n",
       "16         21.40  \n",
       "34         14.03  \n",
       "37         13.46  \n",
       "40         12.73  \n",
       "54         10.77  "
      ]
     },
     "metadata": {},
     "output_type": "display_data"
    },
    {
     "name": "stdout",
     "output_type": "stream",
     "text": [
      "(1304, 11)\n"
     ]
    },
    {
     "data": {
      "image/png": "[encoded data removed]",
      "text/plain": [
       "<Figure size 936x504 with 1 Axes>"
      ]
     },
     "metadata": {
      "needs_background": "light"
     },
     "output_type": "display_data"
    }
   ],
   "source": [
    "ps4 = videojuegos[(videojuegos.Platform == 'PS3')]\n",
    "ps4.Genre.unique()\n",
    "display(ps4.head())\n",
    "print(ps4.shape)\n",
    "\n",
    "plt.figure(figsize=(13,7))\n",
    "sns.countplot(x='Genre', data=ps4)\n",
    "plt.xlabel('Género')\n",
    "plt.ylabel('Cantidad')\n",
    "plt.title('Géneros PS3')\n",
    "plt.show()"
   ]
  },
  {
   "cell_type": "markdown",
   "metadata": {
    "slideshow": {
     "slide_type": "slide"
    }
   },
   "source": [
    "En PS3 vemos que el género de acción sigue siendo también muy el rey indiscutible, pero vemos que los videojuegos shooter venden bastante menos que en XBOX360. Aquí podemos teorizar acerca de como podría afectar el mando de cada consola a la jugabilidad en diferentes estilos de juegos, como la sensibilidad del joystick a la hora de disparar en los juegos shooter, por ejemplo. "
   ]
  },
  {
   "cell_type": "code",
   "execution_count": null,
   "metadata": {},
   "outputs": [
    {
     "data": {
      "text/html": [
       "<div>\n",
       "<style scoped>\n",
       "    .dataframe tbody tr th:only-of-type {\n",
       "        vertical-align: middle;\n",
       "    }\n",
       "\n",
       "    .dataframe tbody tr th {\n",
       "        vertical-align: top;\n",
       "    }\n",
       "\n",
       "    .dataframe thead th {\n",
       "        text-align: right;\n",
       "    }\n",
       "</style>\n",
       "<table border=\"1\" class=\"dataframe\">\n",
       "  <thead>\n",
       "    <tr style=\"text-align: right;\">\n",
       "      <th></th>\n",
       "      <th>Year</th>\n",
       "      <th>Rank</th>\n",
       "      <th>Name</th>\n",
       "      <th>Platform</th>\n",
       "      <th>Genre</th>\n",
       "      <th>Publisher</th>\n",
       "      <th>NA_Sales</th>\n",
       "      <th>EU_Sales</th>\n",
       "      <th>JP_Sales</th>\n",
       "      <th>Other_Sales</th>\n",
       "      <th>Global_Sales</th>\n",
       "    </tr>\n",
       "  </thead>\n",
       "  <tbody>\n",
       "    <tr>\n",
       "      <th>15867</th>\n",
       "      <td>1985.0</td>\n",
       "      <td>15870</td>\n",
       "      <td>Strongest Tokyo University Shogi DS</td>\n",
       "      <td>DS</td>\n",
       "      <td>Action</td>\n",
       "      <td>Mycom</td>\n",
       "      <td>0.00</td>\n",
       "      <td>0.00</td>\n",
       "      <td>0.02</td>\n",
       "      <td>0.00</td>\n",
       "      <td>0.02</td>\n",
       "    </tr>\n",
       "    <tr>\n",
       "      <th>8412</th>\n",
       "      <td>2004.0</td>\n",
       "      <td>8414</td>\n",
       "      <td>Zoo Keeper</td>\n",
       "      <td>DS</td>\n",
       "      <td>Puzzle</td>\n",
       "      <td>Ignition Entertainment</td>\n",
       "      <td>0.10</td>\n",
       "      <td>0.01</td>\n",
       "      <td>0.05</td>\n",
       "      <td>0.01</td>\n",
       "      <td>0.17</td>\n",
       "    </tr>\n",
       "    <tr>\n",
       "      <th>9113</th>\n",
       "      <td>2004.0</td>\n",
       "      <td>9115</td>\n",
       "      <td>Mr. Driller: Drill Spirits</td>\n",
       "      <td>DS</td>\n",
       "      <td>Puzzle</td>\n",
       "      <td>Nintendo</td>\n",
       "      <td>0.08</td>\n",
       "      <td>0.00</td>\n",
       "      <td>0.05</td>\n",
       "      <td>0.01</td>\n",
       "      <td>0.14</td>\n",
       "    </tr>\n",
       "    <tr>\n",
       "      <th>8905</th>\n",
       "      <td>2004.0</td>\n",
       "      <td>8907</td>\n",
       "      <td>Ridge Racer DS</td>\n",
       "      <td>DS</td>\n",
       "      <td>Racing</td>\n",
       "      <td>Namco Bandai Games</td>\n",
       "      <td>0.14</td>\n",
       "      <td>0.00</td>\n",
       "      <td>0.00</td>\n",
       "      <td>0.01</td>\n",
       "      <td>0.15</td>\n",
       "    </tr>\n",
       "    <tr>\n",
       "      <th>7927</th>\n",
       "      <td>2004.0</td>\n",
       "      <td>7929</td>\n",
       "      <td>Daigasso! Band Brothers</td>\n",
       "      <td>DS</td>\n",
       "      <td>Misc</td>\n",
       "      <td>Nintendo</td>\n",
       "      <td>0.00</td>\n",
       "      <td>0.00</td>\n",
       "      <td>0.19</td>\n",
       "      <td>0.00</td>\n",
       "      <td>0.19</td>\n",
       "    </tr>\n",
       "  </tbody>\n",
       "</table>\n",
       "</div>"
      ],
      "text/plain": [
       "         Year   Rank                                 Name Platform   Genre  \\\n",
       "15867  1985.0  15870  Strongest Tokyo University Shogi DS       DS  Action   \n",
       "8412   2004.0   8414                           Zoo Keeper       DS  Puzzle   \n",
       "9113   2004.0   9115           Mr. Driller: Drill Spirits       DS  Puzzle   \n",
       "8905   2004.0   8907                       Ridge Racer DS       DS  Racing   \n",
       "7927   2004.0   7929              Daigasso! Band Brothers       DS    Misc   \n",
       "\n",
       "                    Publisher  NA_Sales  EU_Sales  JP_Sales  Other_Sales  \\\n",
       "15867                   Mycom      0.00      0.00      0.02         0.00   \n",
       "8412   Ignition Entertainment      0.10      0.01      0.05         0.01   \n",
       "9113                 Nintendo      0.08      0.00      0.05         0.01   \n",
       "8905       Namco Bandai Games      0.14      0.00      0.00         0.01   \n",
       "7927                 Nintendo      0.00      0.00      0.19         0.00   \n",
       "\n",
       "       Global_Sales  \n",
       "15867          0.02  \n",
       "8412           0.17  \n",
       "9113           0.14  \n",
       "8905           0.15  \n",
       "7927           0.19  "
      ]
     },
     "metadata": {},
     "output_type": "display_data"
    },
    {
     "name": "stdout",
     "output_type": "stream",
     "text": [
      "(2131, 11)\n"
     ]
    },
    {
     "data": {
      "image/png": "[encoded data removed]",
      "text/plain": [
       "<Figure size 936x504 with 1 Axes>"
      ]
     },
     "metadata": {
      "needs_background": "light"
     },
     "output_type": "display_data"
    }
   ],
   "source": [
    "ds = videojuegos[(videojuegos.Platform == 'DS')]\n",
    "ds.Genre.unique()\n",
    "display(ds.head())\n",
    "print(ds.shape)\n",
    "\n",
    "plt.figure(figsize=(13,7))\n",
    "sns.countplot(x='Genre', data=ds)\n",
    "plt.xlabel('Género')\n",
    "plt.ylabel('Cantidad')\n",
    "plt.title('Géneros DS')\n",
    "plt.show()"
   ]
  },
  {
   "cell_type": "markdown",
   "metadata": {
    "slideshow": {
     "slide_type": "slide"
    }
   },
   "source": [
    "Como siempre, las consolas de nintendo van a otra cosa y encontramos que el género mas vendido es el \"Misc\" que se puede entender como videojuegos variados que no pertenecen a un género definido. A éste le siguen los juegos de acción y de simulación y aventura. \n",
    "\n",
    "Es destacable observr que, mientras en las otras dos consolas, el shooter era un género bastante vendido, en Nintendo no cosecha apenas ventas este género. "
   ]
  },
  {
   "cell_type": "markdown",
   "metadata": {},
   "source": [
    "Como hemos podido observar aquí, el mercado al que van dirigido los videojuegos que se lanzan en las consolas de Sony y Microsoft es otro completamente distinto al que va dirigido la consola de Nintendo."
   ]
  },
  {
   "cell_type": "markdown",
   "metadata": {
    "slideshow": {
     "slide_type": "slide"
    }
   },
   "source": [
    "# Comparativa ventas globales entre Xbox 360 y PS3"
   ]
  },
  {
   "cell_type": "markdown",
   "metadata": {},
   "source": [
    "Vamos a pasar a ver una comparativa de las ventas globales entre diferentes consolas, remarcando las ventas en cada una de las regiones. "
   ]
  },
  {
   "cell_type": "code",
   "execution_count": 27,
   "metadata": {},
   "outputs": [
    {
     "data": {
      "text/html": [
       "<div>\n",
       "<style scoped>\n",
       "    .dataframe tbody tr th:only-of-type {\n",
       "        vertical-align: middle;\n",
       "    }\n",
       "\n",
       "    .dataframe tbody tr th {\n",
       "        vertical-align: top;\n",
       "    }\n",
       "\n",
       "    .dataframe thead th {\n",
       "        text-align: right;\n",
       "    }\n",
       "</style>\n",
       "<table border=\"1\" class=\"dataframe\">\n",
       "  <thead>\n",
       "    <tr style=\"text-align: right;\">\n",
       "      <th></th>\n",
       "      <th>Rank</th>\n",
       "      <th>Name</th>\n",
       "      <th>Platform</th>\n",
       "      <th>Year</th>\n",
       "      <th>Genre</th>\n",
       "      <th>Publisher</th>\n",
       "      <th>NA_Sales</th>\n",
       "      <th>EU_Sales</th>\n",
       "      <th>JP_Sales</th>\n",
       "      <th>Other_Sales</th>\n",
       "      <th>Global_Sales</th>\n",
       "    </tr>\n",
       "  </thead>\n",
       "  <tbody>\n",
       "    <tr>\n",
       "      <th>15</th>\n",
       "      <td>16</td>\n",
       "      <td>Kinect Adventures!</td>\n",
       "      <td>X360</td>\n",
       "      <td>2010.0</td>\n",
       "      <td>Misc</td>\n",
       "      <td>Microsoft Game Studios</td>\n",
       "      <td>14.97</td>\n",
       "      <td>4.94</td>\n",
       "      <td>0.24</td>\n",
       "      <td>1.67</td>\n",
       "      <td>21.82</td>\n",
       "    </tr>\n",
       "    <tr>\n",
       "      <th>16</th>\n",
       "      <td>17</td>\n",
       "      <td>Grand Theft Auto V</td>\n",
       "      <td>PS3</td>\n",
       "      <td>2013.0</td>\n",
       "      <td>Action</td>\n",
       "      <td>Take-Two Interactive</td>\n",
       "      <td>7.01</td>\n",
       "      <td>9.27</td>\n",
       "      <td>0.97</td>\n",
       "      <td>4.14</td>\n",
       "      <td>21.40</td>\n",
       "    </tr>\n",
       "    <tr>\n",
       "      <th>23</th>\n",
       "      <td>24</td>\n",
       "      <td>Grand Theft Auto V</td>\n",
       "      <td>X360</td>\n",
       "      <td>2013.0</td>\n",
       "      <td>Action</td>\n",
       "      <td>Take-Two Interactive</td>\n",
       "      <td>9.63</td>\n",
       "      <td>5.31</td>\n",
       "      <td>0.06</td>\n",
       "      <td>1.38</td>\n",
       "      <td>16.38</td>\n",
       "    </tr>\n",
       "    <tr>\n",
       "      <th>29</th>\n",
       "      <td>30</td>\n",
       "      <td>Call of Duty: Modern Warfare 3</td>\n",
       "      <td>X360</td>\n",
       "      <td>2011.0</td>\n",
       "      <td>Shooter</td>\n",
       "      <td>Activision</td>\n",
       "      <td>9.03</td>\n",
       "      <td>4.28</td>\n",
       "      <td>0.13</td>\n",
       "      <td>1.32</td>\n",
       "      <td>14.76</td>\n",
       "    </tr>\n",
       "    <tr>\n",
       "      <th>31</th>\n",
       "      <td>32</td>\n",
       "      <td>Call of Duty: Black Ops</td>\n",
       "      <td>X360</td>\n",
       "      <td>2010.0</td>\n",
       "      <td>Shooter</td>\n",
       "      <td>Activision</td>\n",
       "      <td>9.67</td>\n",
       "      <td>3.73</td>\n",
       "      <td>0.11</td>\n",
       "      <td>1.13</td>\n",
       "      <td>14.64</td>\n",
       "    </tr>\n",
       "  </tbody>\n",
       "</table>\n",
       "</div>"
      ],
      "text/plain": [
       "    Rank                            Name Platform    Year    Genre  \\\n",
       "15    16              Kinect Adventures!     X360  2010.0     Misc   \n",
       "16    17              Grand Theft Auto V      PS3  2013.0   Action   \n",
       "23    24              Grand Theft Auto V     X360  2013.0   Action   \n",
       "29    30  Call of Duty: Modern Warfare 3     X360  2011.0  Shooter   \n",
       "31    32         Call of Duty: Black Ops     X360  2010.0  Shooter   \n",
       "\n",
       "                 Publisher  NA_Sales  EU_Sales  JP_Sales  Other_Sales  \\\n",
       "15  Microsoft Game Studios     14.97      4.94      0.24         1.67   \n",
       "16    Take-Two Interactive      7.01      9.27      0.97         4.14   \n",
       "23    Take-Two Interactive      9.63      5.31      0.06         1.38   \n",
       "29              Activision      9.03      4.28      0.13         1.32   \n",
       "31              Activision      9.67      3.73      0.11         1.13   \n",
       "\n",
       "    Global_Sales  \n",
       "15         21.82  \n",
       "16         21.40  \n",
       "23         16.38  \n",
       "29         14.76  \n",
       "31         14.64  "
      ]
     },
     "metadata": {},
     "output_type": "display_data"
    },
    {
     "data": {
      "text/plain": [
       "[Text(0.5, 0, 'Platforma'),\n",
       " Text(0, 0.5, 'Ventas'),\n",
       " Text(0.5, 1.0, 'Ventas totales por zonas geográficas para XBOX 360 y PS3')]"
      ]
     },
     "execution_count": 27,
     "metadata": {},
     "output_type": "execute_result"
    },
    {
     "data": {
      "image/png": "[encoded data removed]",
      "text/plain": [
       "<Figure size 936x504 with 1 Axes>"
      ]
     },
     "metadata": {
      "needs_background": "light"
     },
     "output_type": "display_data"
    }
   ],
   "source": [
    "\n",
    "x_vs_p = videojuegos [videojuegos[\"Platform\"].isin(['X360', 'PS3'])]\n",
    "display(x_vs_p.head())\n",
    "\n",
    "platform=list(x_vs_p.Platform.unique())\n",
    "na_sales=[]\n",
    "eu_sales=[]\n",
    "jp_sales=[]\n",
    "other_sales=[]\n",
    "\n",
    "for i in platform:\n",
    "    val=x_vs_p[x_vs_p.Platform==i]\n",
    "    na_sales.append(val.NA_Sales.sum())\n",
    "    eu_sales.append(val.EU_Sales.sum())\n",
    "    jp_sales.append(val.JP_Sales.sum())\n",
    "    other_sales.append(val.Other_Sales.sum())\n",
    "    \n",
    "    \n",
    "f,ax = plt.subplots(figsize = (13,7))\n",
    "sns.barplot(x=platform,y=na_sales,color= 'red',alpha =0.8,label='NA_Sales' )\n",
    "sns.barplot(x=platform,y=eu_sales,color='orange',alpha = 0.7,label='EU_Sales')\n",
    "sns.barplot(x=platform,y=jp_sales,color='blue',alpha = 0.8,label='JP_Sales')\n",
    "sns.barplot(x=platform,y=other_sales,color='green',alpha = 0.6,label='Other_Sales')\n",
    "\n",
    "\n",
    "ax.legend(loc='upper right',frameon = True)\n",
    "ax.set(xlabel='Platforma', ylabel='Ventas',title = \"Ventas totales por zonas geográficas para XBOX 360 y PS3\")"
   ]
  },
  {
   "cell_type": "markdown",
   "metadata": {},
   "source": [
    "En primer lugar vemos una clara ganadora entre PS3 y Xbox360, donde las ventas generadas por la segunda en Norte América es lo que da la victoria a la consola de Microsoft. "
   ]
  },
  {
   "cell_type": "markdown",
   "metadata": {},
   "source": [
    "Pero, ¿que pasa si sumamos a la ecuación la consola de nintendo que compitió con estas otras dos consolas?"
   ]
  },
  {
   "cell_type": "code",
   "execution_count": 30,
   "metadata": {},
   "outputs": [
    {
     "data": {
      "text/html": [
       "<div>\n",
       "<style scoped>\n",
       "    .dataframe tbody tr th:only-of-type {\n",
       "        vertical-align: middle;\n",
       "    }\n",
       "\n",
       "    .dataframe tbody tr th {\n",
       "        vertical-align: top;\n",
       "    }\n",
       "\n",
       "    .dataframe thead th {\n",
       "        text-align: right;\n",
       "    }\n",
       "</style>\n",
       "<table border=\"1\" class=\"dataframe\">\n",
       "  <thead>\n",
       "    <tr style=\"text-align: right;\">\n",
       "      <th></th>\n",
       "      <th>Rank</th>\n",
       "      <th>Name</th>\n",
       "      <th>Platform</th>\n",
       "      <th>Year</th>\n",
       "      <th>Genre</th>\n",
       "      <th>Publisher</th>\n",
       "      <th>NA_Sales</th>\n",
       "      <th>EU_Sales</th>\n",
       "      <th>JP_Sales</th>\n",
       "      <th>Other_Sales</th>\n",
       "      <th>Global_Sales</th>\n",
       "    </tr>\n",
       "  </thead>\n",
       "  <tbody>\n",
       "    <tr>\n",
       "      <th>6</th>\n",
       "      <td>7</td>\n",
       "      <td>New Super Mario Bros.</td>\n",
       "      <td>DS</td>\n",
       "      <td>2006.0</td>\n",
       "      <td>Platform</td>\n",
       "      <td>Nintendo</td>\n",
       "      <td>11.38</td>\n",
       "      <td>9.23</td>\n",
       "      <td>6.50</td>\n",
       "      <td>2.90</td>\n",
       "      <td>30.01</td>\n",
       "    </tr>\n",
       "    <tr>\n",
       "      <th>10</th>\n",
       "      <td>11</td>\n",
       "      <td>Nintendogs</td>\n",
       "      <td>DS</td>\n",
       "      <td>2005.0</td>\n",
       "      <td>Simulation</td>\n",
       "      <td>Nintendo</td>\n",
       "      <td>9.07</td>\n",
       "      <td>11.00</td>\n",
       "      <td>1.93</td>\n",
       "      <td>2.75</td>\n",
       "      <td>24.76</td>\n",
       "    </tr>\n",
       "    <tr>\n",
       "      <th>11</th>\n",
       "      <td>12</td>\n",
       "      <td>Mario Kart DS</td>\n",
       "      <td>DS</td>\n",
       "      <td>2005.0</td>\n",
       "      <td>Racing</td>\n",
       "      <td>Nintendo</td>\n",
       "      <td>9.81</td>\n",
       "      <td>7.57</td>\n",
       "      <td>4.13</td>\n",
       "      <td>1.92</td>\n",
       "      <td>23.42</td>\n",
       "    </tr>\n",
       "    <tr>\n",
       "      <th>15</th>\n",
       "      <td>16</td>\n",
       "      <td>Kinect Adventures!</td>\n",
       "      <td>X360</td>\n",
       "      <td>2010.0</td>\n",
       "      <td>Misc</td>\n",
       "      <td>Microsoft Game Studios</td>\n",
       "      <td>14.97</td>\n",
       "      <td>4.94</td>\n",
       "      <td>0.24</td>\n",
       "      <td>1.67</td>\n",
       "      <td>21.82</td>\n",
       "    </tr>\n",
       "    <tr>\n",
       "      <th>16</th>\n",
       "      <td>17</td>\n",
       "      <td>Grand Theft Auto V</td>\n",
       "      <td>PS3</td>\n",
       "      <td>2013.0</td>\n",
       "      <td>Action</td>\n",
       "      <td>Take-Two Interactive</td>\n",
       "      <td>7.01</td>\n",
       "      <td>9.27</td>\n",
       "      <td>0.97</td>\n",
       "      <td>4.14</td>\n",
       "      <td>21.40</td>\n",
       "    </tr>\n",
       "  </tbody>\n",
       "</table>\n",
       "</div>"
      ],
      "text/plain": [
       "    Rank                   Name Platform    Year       Genre  \\\n",
       "6      7  New Super Mario Bros.       DS  2006.0    Platform   \n",
       "10    11             Nintendogs       DS  2005.0  Simulation   \n",
       "11    12          Mario Kart DS       DS  2005.0      Racing   \n",
       "15    16     Kinect Adventures!     X360  2010.0        Misc   \n",
       "16    17     Grand Theft Auto V      PS3  2013.0      Action   \n",
       "\n",
       "                 Publisher  NA_Sales  EU_Sales  JP_Sales  Other_Sales  \\\n",
       "6                 Nintendo     11.38      9.23      6.50         2.90   \n",
       "10                Nintendo      9.07     11.00      1.93         2.75   \n",
       "11                Nintendo      9.81      7.57      4.13         1.92   \n",
       "15  Microsoft Game Studios     14.97      4.94      0.24         1.67   \n",
       "16    Take-Two Interactive      7.01      9.27      0.97         4.14   \n",
       "\n",
       "    Global_Sales  \n",
       "6          30.01  \n",
       "10         24.76  \n",
       "11         23.42  \n",
       "15         21.82  \n",
       "16         21.40  "
      ]
     },
     "metadata": {},
     "output_type": "display_data"
    },
    {
     "data": {
      "text/plain": [
       "[Text(0.5, 0, 'Platforma'),\n",
       " Text(0, 0.5, 'Ventas'),\n",
       " Text(0.5, 1.0, 'Ventas totales por zonas geográficas para XBOX 360 y PS3')]"
      ]
     },
     "execution_count": 30,
     "metadata": {},
     "output_type": "execute_result"
    },
    {
     "data": {
      "image/png": "[encoded data removed]",
      "text/plain": [
       "<Figure size 936x504 with 1 Axes>"
      ]
     },
     "metadata": {
      "needs_background": "light"
     },
     "output_type": "display_data"
    }
   ],
   "source": [
    "x_vs_p = videojuegos [videojuegos[\"Platform\"].isin(['X360', 'PS3','DS'])]\n",
    "display(x_vs_p.head())\n",
    "\n",
    "platform=list(x_vs_p.Platform.unique())\n",
    "na_sales=[]\n",
    "eu_sales=[]\n",
    "jp_sales=[]\n",
    "other_sales=[]\n",
    "\n",
    "for i in platform:\n",
    "    val=x_vs_p[x_vs_p.Platform==i]\n",
    "    na_sales.append(val.NA_Sales.sum())\n",
    "    eu_sales.append(val.EU_Sales.sum())\n",
    "    jp_sales.append(val.JP_Sales.sum())\n",
    "    other_sales.append(val.Other_Sales.sum())\n",
    "    \n",
    "    \n",
    "f,ax = plt.subplots(figsize = (13,7))\n",
    "sns.barplot(x=platform,y=na_sales,color= 'red',alpha =0.8,label='NA_Sales' )\n",
    "sns.barplot(x=platform,y=eu_sales,color='orange',alpha = 0.7,label='EU_Sales')\n",
    "sns.barplot(x=platform,y=jp_sales,color='blue',alpha = 0.8,label='JP_Sales')\n",
    "sns.barplot(x=platform,y=other_sales,color='green',alpha = 0.6,label='Other_Sales')\n",
    "\n",
    "\n",
    "ax.legend(loc='upper right',frameon = True)\n",
    "ax.set(xlabel='Platforma', ylabel='Ventas',title = \"Ventas totales por zonas geográficas para XBOX 360 y PS3\")"
   ]
  },
  {
   "cell_type": "markdown",
   "metadata": {},
   "source": [
    "Pues encontramos que la consola de Nintendo practicamente igualó a la consola de Sony en ventas, destacando su gran éxito en Japón, aunque también destacando su estripotoso fracaso en Europa. \n",
    "\n",
    "También me parece un dato a destacar el hecho de las pocas ventas de Xbox360 en Japón. Esto es debido a la gran tradición y leyes que existen en Japón y que promueven la compra de productos nipones. "
   ]
  },
  {
   "cell_type": "markdown",
   "metadata": {},
   "source": [
    "# Comparativa ventas globales entre Xbox One y PS4 \n"
   ]
  },
  {
   "cell_type": "markdown",
   "metadata": {},
   "source": [
    "¿Y que pasará en cuanto a ventas si pasamos a la siguiente generación de consolas?"
   ]
  },
  {
   "cell_type": "code",
   "execution_count": 31,
   "metadata": {},
   "outputs": [
    {
     "data": {
      "text/html": [
       "<div>\n",
       "<style scoped>\n",
       "    .dataframe tbody tr th:only-of-type {\n",
       "        vertical-align: middle;\n",
       "    }\n",
       "\n",
       "    .dataframe tbody tr th {\n",
       "        vertical-align: top;\n",
       "    }\n",
       "\n",
       "    .dataframe thead th {\n",
       "        text-align: right;\n",
       "    }\n",
       "</style>\n",
       "<table border=\"1\" class=\"dataframe\">\n",
       "  <thead>\n",
       "    <tr style=\"text-align: right;\">\n",
       "      <th></th>\n",
       "      <th>Rank</th>\n",
       "      <th>Name</th>\n",
       "      <th>Platform</th>\n",
       "      <th>Year</th>\n",
       "      <th>Genre</th>\n",
       "      <th>Publisher</th>\n",
       "      <th>NA_Sales</th>\n",
       "      <th>EU_Sales</th>\n",
       "      <th>JP_Sales</th>\n",
       "      <th>Other_Sales</th>\n",
       "      <th>Global_Sales</th>\n",
       "    </tr>\n",
       "  </thead>\n",
       "  <tbody>\n",
       "    <tr>\n",
       "      <th>33</th>\n",
       "      <td>34</td>\n",
       "      <td>Call of Duty: Black Ops 3</td>\n",
       "      <td>PS4</td>\n",
       "      <td>2015.0</td>\n",
       "      <td>Shooter</td>\n",
       "      <td>Activision</td>\n",
       "      <td>5.77</td>\n",
       "      <td>5.81</td>\n",
       "      <td>0.35</td>\n",
       "      <td>2.31</td>\n",
       "      <td>14.24</td>\n",
       "    </tr>\n",
       "    <tr>\n",
       "      <th>44</th>\n",
       "      <td>45</td>\n",
       "      <td>Grand Theft Auto V</td>\n",
       "      <td>PS4</td>\n",
       "      <td>2014.0</td>\n",
       "      <td>Action</td>\n",
       "      <td>Take-Two Interactive</td>\n",
       "      <td>3.80</td>\n",
       "      <td>5.81</td>\n",
       "      <td>0.36</td>\n",
       "      <td>2.02</td>\n",
       "      <td>11.98</td>\n",
       "    </tr>\n",
       "    <tr>\n",
       "      <th>77</th>\n",
       "      <td>78</td>\n",
       "      <td>FIFA 16</td>\n",
       "      <td>PS4</td>\n",
       "      <td>2015.0</td>\n",
       "      <td>Sports</td>\n",
       "      <td>Electronic Arts</td>\n",
       "      <td>1.11</td>\n",
       "      <td>6.06</td>\n",
       "      <td>0.06</td>\n",
       "      <td>1.26</td>\n",
       "      <td>8.49</td>\n",
       "    </tr>\n",
       "    <tr>\n",
       "      <th>92</th>\n",
       "      <td>93</td>\n",
       "      <td>Star Wars Battlefront (2015)</td>\n",
       "      <td>PS4</td>\n",
       "      <td>2015.0</td>\n",
       "      <td>Shooter</td>\n",
       "      <td>Electronic Arts</td>\n",
       "      <td>2.93</td>\n",
       "      <td>3.29</td>\n",
       "      <td>0.22</td>\n",
       "      <td>1.23</td>\n",
       "      <td>7.67</td>\n",
       "    </tr>\n",
       "    <tr>\n",
       "      <th>93</th>\n",
       "      <td>94</td>\n",
       "      <td>Call of Duty: Advanced Warfare</td>\n",
       "      <td>PS4</td>\n",
       "      <td>2014.0</td>\n",
       "      <td>Shooter</td>\n",
       "      <td>Activision</td>\n",
       "      <td>2.80</td>\n",
       "      <td>3.30</td>\n",
       "      <td>0.14</td>\n",
       "      <td>1.37</td>\n",
       "      <td>7.60</td>\n",
       "    </tr>\n",
       "  </tbody>\n",
       "</table>\n",
       "</div>"
      ],
      "text/plain": [
       "    Rank                            Name Platform    Year    Genre  \\\n",
       "33    34       Call of Duty: Black Ops 3      PS4  2015.0  Shooter   \n",
       "44    45              Grand Theft Auto V      PS4  2014.0   Action   \n",
       "77    78                         FIFA 16      PS4  2015.0   Sports   \n",
       "92    93    Star Wars Battlefront (2015)      PS4  2015.0  Shooter   \n",
       "93    94  Call of Duty: Advanced Warfare      PS4  2014.0  Shooter   \n",
       "\n",
       "               Publisher  NA_Sales  EU_Sales  JP_Sales  Other_Sales  \\\n",
       "33            Activision      5.77      5.81      0.35         2.31   \n",
       "44  Take-Two Interactive      3.80      5.81      0.36         2.02   \n",
       "77       Electronic Arts      1.11      6.06      0.06         1.26   \n",
       "92       Electronic Arts      2.93      3.29      0.22         1.23   \n",
       "93            Activision      2.80      3.30      0.14         1.37   \n",
       "\n",
       "    Global_Sales  \n",
       "33         14.24  \n",
       "44         11.98  \n",
       "77          8.49  \n",
       "92          7.67  \n",
       "93          7.60  "
      ]
     },
     "metadata": {},
     "output_type": "display_data"
    },
    {
     "data": {
      "text/plain": [
       "[Text(0.5, 0, 'Platforma'),\n",
       " Text(0, 0.5, 'Ventas'),\n",
       " Text(0.5, 1.0, 'Ventas totales por zonas geográficas para XBOX ONE y PS4')]"
      ]
     },
     "execution_count": 31,
     "metadata": {},
     "output_type": "execute_result"
    },
    {
     "data": {
      "image/png": "[encoded data removed]",
      "text/plain": [
       "<Figure size 936x504 with 1 Axes>"
      ]
     },
     "metadata": {
      "needs_background": "light"
     },
     "output_type": "display_data"
    }
   ],
   "source": [
    "x_vs_p = videojuegos [videojuegos[\"Platform\"].isin(['XOne', 'PS4'])]\n",
    "display(x_vs_p.head())\n",
    "\n",
    "platform=list(x_vs_p.Platform.unique())\n",
    "na_sales=[]\n",
    "eu_sales=[]\n",
    "jp_sales=[]\n",
    "other_sales=[]\n",
    "\n",
    "for i in platform:\n",
    "    val=x_vs_p[x_vs_p.Platform==i]\n",
    "    na_sales.append(val.NA_Sales.sum())\n",
    "    eu_sales.append(val.EU_Sales.sum())\n",
    "    jp_sales.append(val.JP_Sales.sum())\n",
    "    other_sales.append(val.Other_Sales.sum())\n",
    "    \n",
    "    \n",
    "f,ax = plt.subplots(figsize = (13,7))\n",
    "sns.barplot(x=platform,y=na_sales,color= 'black',alpha =0.8,label='NA_Sales' )\n",
    "sns.barplot(x=platform,y=eu_sales,color='orange',alpha = 0.7,label='EU_Sales')\n",
    "sns.barplot(x=platform,y=jp_sales,color='blue',alpha = 0.8,label='JP_Sales')\n",
    "sns.barplot(x=platform,y=other_sales,color='green',alpha = 0.6,label='Other_Sales')\n",
    "\n",
    "\n",
    "ax.legend(loc='upper right',frameon = True)\n",
    "ax.set(xlabel='Platforma', ylabel='Ventas',title = \"Ventas totales por zonas geográficas para XBOX ONE y PS4\")"
   ]
  },
  {
   "cell_type": "markdown",
   "metadata": {},
   "source": [
    "Pues lo que encontramos es una completa remontado por parte de la consola de Sony sobre la consola de Microsoft. Destacando mucho las ventas conseguidas por Sony en Norte America y Europa, que han aumentado mucho con respecto a su consola predecesora. También es destacable la practicamente nula venta de consolas de Microsoft en territorio nipón. "
   ]
  },
  {
   "cell_type": "markdown",
   "metadata": {},
   "source": [
    "¿Y que pasa si volvemos a sumar a la ecuación la consola de nintendo que pertenece a esta generación? "
   ]
  },
  {
   "cell_type": "code",
   "execution_count": 33,
   "metadata": {},
   "outputs": [
    {
     "data": {
      "text/html": [
       "<div>\n",
       "<style scoped>\n",
       "    .dataframe tbody tr th:only-of-type {\n",
       "        vertical-align: middle;\n",
       "    }\n",
       "\n",
       "    .dataframe tbody tr th {\n",
       "        vertical-align: top;\n",
       "    }\n",
       "\n",
       "    .dataframe thead th {\n",
       "        text-align: right;\n",
       "    }\n",
       "</style>\n",
       "<table border=\"1\" class=\"dataframe\">\n",
       "  <thead>\n",
       "    <tr style=\"text-align: right;\">\n",
       "      <th></th>\n",
       "      <th>Rank</th>\n",
       "      <th>Name</th>\n",
       "      <th>Platform</th>\n",
       "      <th>Year</th>\n",
       "      <th>Genre</th>\n",
       "      <th>Publisher</th>\n",
       "      <th>NA_Sales</th>\n",
       "      <th>EU_Sales</th>\n",
       "      <th>JP_Sales</th>\n",
       "      <th>Other_Sales</th>\n",
       "      <th>Global_Sales</th>\n",
       "    </tr>\n",
       "  </thead>\n",
       "  <tbody>\n",
       "    <tr>\n",
       "      <th>32</th>\n",
       "      <td>33</td>\n",
       "      <td>Pokemon X/Pokemon Y</td>\n",
       "      <td>3DS</td>\n",
       "      <td>2013.0</td>\n",
       "      <td>Role-Playing</td>\n",
       "      <td>Nintendo</td>\n",
       "      <td>5.17</td>\n",
       "      <td>4.05</td>\n",
       "      <td>4.34</td>\n",
       "      <td>0.79</td>\n",
       "      <td>14.35</td>\n",
       "    </tr>\n",
       "    <tr>\n",
       "      <th>33</th>\n",
       "      <td>34</td>\n",
       "      <td>Call of Duty: Black Ops 3</td>\n",
       "      <td>PS4</td>\n",
       "      <td>2015.0</td>\n",
       "      <td>Shooter</td>\n",
       "      <td>Activision</td>\n",
       "      <td>5.77</td>\n",
       "      <td>5.81</td>\n",
       "      <td>0.35</td>\n",
       "      <td>2.31</td>\n",
       "      <td>14.24</td>\n",
       "    </tr>\n",
       "    <tr>\n",
       "      <th>42</th>\n",
       "      <td>43</td>\n",
       "      <td>Mario Kart 7</td>\n",
       "      <td>3DS</td>\n",
       "      <td>2011.0</td>\n",
       "      <td>Racing</td>\n",
       "      <td>Nintendo</td>\n",
       "      <td>4.74</td>\n",
       "      <td>3.91</td>\n",
       "      <td>2.67</td>\n",
       "      <td>0.89</td>\n",
       "      <td>12.21</td>\n",
       "    </tr>\n",
       "    <tr>\n",
       "      <th>44</th>\n",
       "      <td>45</td>\n",
       "      <td>Grand Theft Auto V</td>\n",
       "      <td>PS4</td>\n",
       "      <td>2014.0</td>\n",
       "      <td>Action</td>\n",
       "      <td>Take-Two Interactive</td>\n",
       "      <td>3.80</td>\n",
       "      <td>5.81</td>\n",
       "      <td>0.36</td>\n",
       "      <td>2.02</td>\n",
       "      <td>11.98</td>\n",
       "    </tr>\n",
       "    <tr>\n",
       "      <th>49</th>\n",
       "      <td>50</td>\n",
       "      <td>Pokemon Omega Ruby/Pokemon Alpha Sapphire</td>\n",
       "      <td>3DS</td>\n",
       "      <td>2014.0</td>\n",
       "      <td>Role-Playing</td>\n",
       "      <td>Nintendo</td>\n",
       "      <td>4.23</td>\n",
       "      <td>3.37</td>\n",
       "      <td>3.08</td>\n",
       "      <td>0.65</td>\n",
       "      <td>11.33</td>\n",
       "    </tr>\n",
       "  </tbody>\n",
       "</table>\n",
       "</div>"
      ],
      "text/plain": [
       "    Rank                                       Name Platform    Year  \\\n",
       "32    33                        Pokemon X/Pokemon Y      3DS  2013.0   \n",
       "33    34                  Call of Duty: Black Ops 3      PS4  2015.0   \n",
       "42    43                               Mario Kart 7      3DS  2011.0   \n",
       "44    45                         Grand Theft Auto V      PS4  2014.0   \n",
       "49    50  Pokemon Omega Ruby/Pokemon Alpha Sapphire      3DS  2014.0   \n",
       "\n",
       "           Genre             Publisher  NA_Sales  EU_Sales  JP_Sales  \\\n",
       "32  Role-Playing              Nintendo      5.17      4.05      4.34   \n",
       "33       Shooter            Activision      5.77      5.81      0.35   \n",
       "42        Racing              Nintendo      4.74      3.91      2.67   \n",
       "44        Action  Take-Two Interactive      3.80      5.81      0.36   \n",
       "49  Role-Playing              Nintendo      4.23      3.37      3.08   \n",
       "\n",
       "    Other_Sales  Global_Sales  \n",
       "32         0.79         14.35  \n",
       "33         2.31         14.24  \n",
       "42         0.89         12.21  \n",
       "44         2.02         11.98  \n",
       "49         0.65         11.33  "
      ]
     },
     "metadata": {},
     "output_type": "display_data"
    },
    {
     "data": {
      "text/plain": [
       "[Text(0.5, 0, 'Platforma'),\n",
       " Text(0, 0.5, 'Ventas'),\n",
       " Text(0.5, 1.0, 'Ventas totales por zonas geográficas para XBOX ONE y PS4')]"
      ]
     },
     "execution_count": 33,
     "metadata": {},
     "output_type": "execute_result"
    },
    {
     "data": {
      "image/png": "[encoded data removed]",
      "text/plain": [
       "<Figure size 936x504 with 1 Axes>"
      ]
     },
     "metadata": {
      "needs_background": "light"
     },
     "output_type": "display_data"
    }
   ],
   "source": [
    "x_vs_p = videojuegos [videojuegos[\"Platform\"].isin(['XOne', 'PS4','3DS'])]\n",
    "display(x_vs_p.head())\n",
    "\n",
    "platform=list(x_vs_p.Platform.unique())\n",
    "na_sales=[]\n",
    "eu_sales=[]\n",
    "jp_sales=[]\n",
    "other_sales=[]\n",
    "\n",
    "for i in platform:\n",
    "    val=x_vs_p[x_vs_p.Platform==i]\n",
    "    na_sales.append(val.NA_Sales.sum())\n",
    "    eu_sales.append(val.EU_Sales.sum())\n",
    "    jp_sales.append(val.JP_Sales.sum())\n",
    "    other_sales.append(val.Other_Sales.sum())\n",
    "    \n",
    "    \n",
    "f,ax = plt.subplots(figsize = (13,7))\n",
    "sns.barplot(x=platform,y=na_sales,color= 'red',alpha =0.8,label='NA_Sales' )\n",
    "sns.barplot(x=platform,y=eu_sales,color='orange',alpha = 0.7,label='EU_Sales')\n",
    "sns.barplot(x=platform,y=jp_sales,color='blue',alpha = 0.8,label='JP_Sales')\n",
    "sns.barplot(x=platform,y=other_sales,color='green',alpha = 0.6,label='Other_Sales')\n",
    "\n",
    "\n",
    "ax.legend(loc='upper right',frameon = True)\n",
    "ax.set(xlabel='Platforma', ylabel='Ventas',title = \"Ventas totales por zonas geográficas para XBOX ONE y PS4\")"
   ]
  },
  {
   "cell_type": "markdown",
   "metadata": {},
   "source": [
    "Pues nos llevamos a una sorpresa bastante grande cuando descubrimos que la consola de Nintendo en este caso ha llegado incluso a superar a la consola de Microsoft, lo que nos indica el declive de la consola de Microsoft. \n",
    "\n",
    "También me parece remarcable el hecho de que Nintendo 3DS ha conseguido superar a XboxONE sin vender prácticamente en América del norte, solo con sus ventas en Japón y Europa. "
   ]
  },
  {
   "cell_type": "markdown",
   "metadata": {},
   "source": [
    "También otro dato que me parece importante y a destacar teniendo en cuenta todas las gráficas de las diferentes consolas que hemos manejado, es la caida de ventas tan descomunales que podemos observar entre una generación y otra.\n",
    "\n",
    "Mientras que en la generación de PS3, Xbox360 y DS manejamos un volumen de ventas de hasta 600 millones de dolares, en la posterior generación de consolas el volumen de ventas que manejamos llega al pico en 120 millones de dolares lo que es solo un 20% con respecto a las ventas totales en la generación anterior. Esto coincide con la gráfica que vimos al principio y donde veíamos la caida de ventas globales que se produce a partir del año 2010."
   ]
  },
  {
   "cell_type": "markdown",
   "metadata": {},
   "source": [
    "# FIN "
   ]
  },
  {
   "cell_type": "markdown",
   "metadata": {},
   "source": [
    "* Datos encontrados en la web de Kaggle \n",
    "* Análisis Exploratorio de Datos realizado por José Enrique Vera Rodríguez"
   ]
  }
 ],
 "metadata": {
  "celltoolbar": "Slideshow",
  "hide_input": true,
  "interpreter": {
   "hash": "aee8b7b246df8f9039afb4144a1f6fd8d2ca17a180786b69acc140d282b71a49"
  },
  "kernelspec": {
   "display_name": "Python 3 (ipykernel)",
   "language": "python",
   "name": "python3"
  },
  "language_info": {
   "codemirror_mode": {
    "name": "ipython",
    "version": 3
   },
   "file_extension": ".py",
   "mimetype": "text/x-python",
   "name": "python",
   "nbconvert_exporter": "python",
   "pygments_lexer": "ipython3",
   "version": "3.7.4"
  },
  "toc": {
   "base_numbering": 1,
   "nav_menu": {},
   "number_sections": true,
   "sideBar": true,
   "skip_h1_title": false,
   "title_cell": "Table of Contents",
   "title_sidebar": "Contents",
   "toc_cell": false,
   "toc_position": {},
   "toc_section_display": true,
   "toc_window_display": false
  }
 },
 "nbformat": 4,
 "nbformat_minor": 2
}
